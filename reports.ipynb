{
 "cells": [
  {
   "cell_type": "code",
   "execution_count": 1,
   "metadata": {},
   "outputs": [],
   "source": [
    "import requests"
   ]
  },
  {
   "cell_type": "code",
   "execution_count": 5,
   "metadata": {},
   "outputs": [],
   "source": [
    "from bs4 import BeautifulSoup"
   ]
  },
  {
   "cell_type": "code",
   "execution_count": 2,
   "metadata": {},
   "outputs": [],
   "source": [
    "company = 'TCS'"
   ]
  },
  {
   "cell_type": "code",
   "execution_count": 3,
   "metadata": {},
   "outputs": [],
   "source": [
    "url = f'https://www.screener.in/company/{company}/'"
   ]
  },
  {
   "cell_type": "code",
   "execution_count": 4,
   "metadata": {},
   "outputs": [],
   "source": [
    "resp = requests.get(url)"
   ]
  },
  {
   "cell_type": "code",
   "execution_count": 7,
   "metadata": {},
   "outputs": [
    {
     "data": {
      "text/plain": [
       "<Response [200]>"
      ]
     },
     "execution_count": 7,
     "metadata": {},
     "output_type": "execute_result"
    }
   ],
   "source": [
    "resp"
   ]
  },
  {
   "cell_type": "code",
   "execution_count": 59,
   "metadata": {},
   "outputs": [],
   "source": [
    "soup = BeautifulSoup(resp.content, 'html.parser')"
   ]
  },
  {
   "cell_type": "code",
   "execution_count": 48,
   "metadata": {},
   "outputs": [],
   "source": [
    "report_links = {}\n",
    "for i in soup.find('div', {'class': 'annual-reports'}).find_all('a'):\n",
    "    try:\n",
    "        i.find('div', {'class':'smaller'}).decompose()\n",
    "    except:\n",
    "        pass\n",
    "    report_links[i.get_text().strip()] = i['href']  "
   ]
  },
  {
   "cell_type": "code",
   "execution_count": 49,
   "metadata": {},
   "outputs": [
    {
     "data": {
      "text/plain": [
       "{'Financial Year 2024': 'https://www.bseindia.com/stockinfo/AnnPdfOpen.aspx?Pname=d57e49b6-fd89-4fa8-b591-4f590100db1e.pdf',\n",
       " 'Financial Year 2023': 'https://www.bseindia.com/stockinfo/AnnPdfOpen.aspx?Pname=\\\\3837c1b7-9308-436d-9636-1d6856edf74e.pdf',\n",
       " 'Financial Year 2022': 'https://www.bseindia.com/bseplus/AnnualReport/532540/72996532540_17_06_22.pdf',\n",
       " 'Financial Year 2021': 'https://www.bseindia.com/bseplus/AnnualReport/532540/68468532540_25_05_21.pdf',\n",
       " 'Financial Year 2020': 'https://www.bseindia.com/bseplus/AnnualReport/532540/5325400320.pdf',\n",
       " 'Financial Year 2019': 'https://www.bseindia.com/bseplus/AnnualReport/532540/5325400319.pdf',\n",
       " 'Financial Year 2018': 'https://www.bseindia.com/bseplus/AnnualReport/532540/5325400318.pdf',\n",
       " 'Financial Year 2017': 'https://www.bseindia.com/bseplus/AnnualReport/532540/5325400317.pdf',\n",
       " 'Financial Year 2016': 'https://www.bseindia.com/bseplus/AnnualReport/532540/5325400316.pdf',\n",
       " 'Financial Year 2015': 'https://www.bseindia.com/bseplus/AnnualReport/532540/5325400315.pdf',\n",
       " 'Financial Year 2014': 'https://www.bseindia.com/bseplus/AnnualReport/532540/5325400314.pdf',\n",
       " 'Financial Year 2013': 'https://www.bseindia.com/bseplus/AnnualReport/532540/5325400313.pdf',\n",
       " 'Financial Year 2012': 'https://www.bseindia.com/bseplus/AnnualReport/532540/5325400312.pdf',\n",
       " 'Financial Year 2011': 'https://www.bseindia.com/bseplus/AnnualReport/532540/5325400311.pdf'}"
      ]
     },
     "execution_count": 49,
     "metadata": {},
     "output_type": "execute_result"
    }
   ],
   "source": [
    "report_links"
   ]
  },
  {
   "cell_type": "code",
   "execution_count": 62,
   "metadata": {},
   "outputs": [],
   "source": [
    "credit_ratings = {}\n",
    "for i in soup.find('div', {'class': 'credit-ratings'}).find_all('a'):\n",
    "    credit_ratings[i.find('div').get_text().strip()] = i['href']  "
   ]
  },
  {
   "cell_type": "code",
   "execution_count": 63,
   "metadata": {},
   "outputs": [
    {
     "data": {
      "text/plain": [
       "{'10 Sep from icra': 'https://www.icra.in/Rationale/ShowRationaleReport/?Id=129826',\n",
       " '24 Jul 2023 from icra': 'https://www.icra.in/Rationale/ShowRationaleReport/?Id=121087',\n",
       " '30 May 2022 from icra': 'https://www.icra.in/Rationale/ShowRationaleReport/?Id=112038',\n",
       " '20 Sep 2021 from icra': 'https://www.icra.in/Rationale/ShowRationaleReport/?Id=106448',\n",
       " '30 Mar 2021 from icra': 'https://www.icra.in/Rationale/ShowRationaleReport/?Id=102320',\n",
       " '24 Mar 2020 from icra': 'https://www.icra.in/Rationale/ShowRationaleReport/?Id=93380'}"
      ]
     },
     "execution_count": 63,
     "metadata": {},
     "output_type": "execute_result"
    }
   ],
   "source": [
    "credit_ratings"
   ]
  },
  {
   "cell_type": "code",
   "execution_count": null,
   "metadata": {},
   "outputs": [],
   "source": []
  }
 ],
 "metadata": {
  "kernelspec": {
   "display_name": "Python 3",
   "language": "python",
   "name": "python3"
  },
  "language_info": {
   "codemirror_mode": {
    "name": "ipython",
    "version": 3
   },
   "file_extension": ".py",
   "mimetype": "text/x-python",
   "name": "python",
   "nbconvert_exporter": "python",
   "pygments_lexer": "ipython3",
   "version": "3.10.0"
  }
 },
 "nbformat": 4,
 "nbformat_minor": 2
}
