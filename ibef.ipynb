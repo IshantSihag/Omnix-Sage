{
 "cells": [
  {
   "cell_type": "code",
   "execution_count": 4,
   "metadata": {},
   "outputs": [],
   "source": [
    "import requests"
   ]
  },
  {
   "cell_type": "code",
   "execution_count": 5,
   "metadata": {},
   "outputs": [],
   "source": [
    "from bs4 import BeautifulSoup"
   ]
  },
  {
   "cell_type": "code",
   "execution_count": 15,
   "metadata": {},
   "outputs": [],
   "source": [
    "url = 'https://www.ibef.org/'"
   ]
  },
  {
   "cell_type": "code",
   "execution_count": 31,
   "metadata": {},
   "outputs": [],
   "source": [
    "resp = requests.get(url)\n",
    "with open('ibef.html', 'w') as f:\n",
    "    f.write(resp.text)"
   ]
  },
  {
   "cell_type": "code",
   "execution_count": 17,
   "metadata": {},
   "outputs": [],
   "source": [
    "soup = BeautifulSoup(resp.text, 'html.parser')"
   ]
  },
  {
   "cell_type": "code",
   "execution_count": 21,
   "metadata": {},
   "outputs": [],
   "source": [
    "economy = soup.find('nav').findAll('div', class_='megaDropDown')[1].findAll('a')"
   ]
  },
  {
   "cell_type": "code",
   "execution_count": 19,
   "metadata": {},
   "outputs": [],
   "source": [
    "economy_links = {}\n",
    "for e in economy:\n",
    "    economy_links[e.get_text()] = e['href']"
   ]
  },
  {
   "cell_type": "code",
   "execution_count": 20,
   "metadata": {},
   "outputs": [
    {
     "data": {
      "text/plain": [
       "{'Domestic Investments': 'https://www.ibef.org/economy/domestic-investments',\n",
       " 'Economic Survey 2023-24': 'https://www.ibef.org/economy/economic-survey-2023-24',\n",
       " 'Foreign Direct Investment': 'https://www.ibef.org/economy/foreign-direct-investment',\n",
       " 'Foreign Institutional Investors': 'https://www.ibef.org/economy/foreign-institutional-investors',\n",
       " 'Foreign Trade Policy 2023': 'https://www.ibef.org/economy/foreign-trade-policy-2023',\n",
       " 'Government Schemes': 'https://www.ibef.org/economy/government-schemes',\n",
       " 'India Positive': 'https://www.ibef.org/economy/india-positive',\n",
       " 'India: A Snapshot': 'https://www.ibef.org/economy/indiasnapshot/about-india-at-a-glance',\n",
       " 'Indian Economy News': 'https://www.ibef.org/indian-economy-news',\n",
       " 'Indian Economy Overview': 'https://www.ibef.org/economy/indian-economy-overview',\n",
       " 'Indian Investments Abroad': 'https://www.ibef.org/economy/indian-investments-abroad',\n",
       " 'Investments': 'https://www.ibef.org/economy/investments',\n",
       " 'Make in India': 'https://www.ibef.org/economy/make-in-india',\n",
       " 'Monthly Economic Report': 'https://www.ibef.org/economy/monthly-economic-report',\n",
       " 'Policy Watch': 'https://www.ibef.org/news/policy-watch',\n",
       " 'Quick Facts': 'https://www.ibef.org/economy/indiasnapshot/facts-about-indian-economy',\n",
       " 'Startup India': 'https://www.ibef.org/economy/startup-india',\n",
       " 'Trade': 'https://www.ibef.org/economy/trade-and-external-sector',\n",
       " 'Union Budget 2024-25': 'https://www.ibef.org/economy/union-budget-2024-25',\n",
       " 'Useful Links': 'https://www.ibef.org/economy/directory/india-directory'}"
      ]
     },
     "execution_count": 20,
     "metadata": {},
     "output_type": "execute_result"
    }
   ],
   "source": [
    "economy_links"
   ]
  },
  {
   "cell_type": "code",
   "execution_count": 25,
   "metadata": {},
   "outputs": [],
   "source": [
    "industries = soup.find('nav').findAll('div', class_='megaDropDown')[2].findAll('a')"
   ]
  },
  {
   "cell_type": "code",
   "execution_count": 26,
   "metadata": {},
   "outputs": [],
   "source": [
    "industry_links = {}\n",
    "for e in industries:\n",
    "    industry_links[e.get_text()] = e['href'].strip()"
   ]
  },
  {
   "cell_type": "code",
   "execution_count": 28,
   "metadata": {},
   "outputs": [],
   "source": [
    "from pyperclip import copy"
   ]
  },
  {
   "cell_type": "code",
   "execution_count": 29,
   "metadata": {},
   "outputs": [],
   "source": [
    "copy(str(industry_links))"
   ]
  },
  {
   "cell_type": "code",
   "execution_count": null,
   "metadata": {},
   "outputs": [],
   "source": []
  }
 ],
 "metadata": {
  "kernelspec": {
   "display_name": "Python 3",
   "language": "python",
   "name": "python3"
  },
  "language_info": {
   "codemirror_mode": {
    "name": "ipython",
    "version": 3
   },
   "file_extension": ".py",
   "mimetype": "text/x-python",
   "name": "python",
   "nbconvert_exporter": "python",
   "pygments_lexer": "ipython3",
   "version": "3.10.0"
  }
 },
 "nbformat": 4,
 "nbformat_minor": 2
}
