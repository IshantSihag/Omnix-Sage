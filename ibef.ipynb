{
 "cells": [
  {
   "cell_type": "code",
   "execution_count": 1,
   "metadata": {},
   "outputs": [],
   "source": [
    "import requests"
   ]
  },
  {
   "cell_type": "code",
   "execution_count": 2,
   "metadata": {},
   "outputs": [],
   "source": [
    "from bs4 import BeautifulSoup"
   ]
  },
  {
   "cell_type": "code",
   "execution_count": 3,
   "metadata": {},
   "outputs": [],
   "source": [
    "url = 'https://www.ibef.org/'"
   ]
  },
  {
   "cell_type": "code",
   "execution_count": 4,
   "metadata": {},
   "outputs": [],
   "source": [
    "resp = requests.get(url)\n",
    "with open('ibef.html', 'w') as f:\n",
    "    f.write(resp.text)"
   ]
  },
  {
   "cell_type": "code",
   "execution_count": 5,
   "metadata": {},
   "outputs": [],
   "source": [
    "soup = BeautifulSoup(resp.text, 'html.parser')"
   ]
  },
  {
   "cell_type": "code",
   "execution_count": 6,
   "metadata": {},
   "outputs": [],
   "source": [
    "economy = soup.find('nav').findAll('div', class_='megaDropDown')[1].findAll('a')"
   ]
  },
  {
   "cell_type": "code",
   "execution_count": 7,
   "metadata": {},
   "outputs": [],
   "source": [
    "economy_links = {}\n",
    "for e in economy:\n",
    "    economy_links[e.get_text()] = e['href']"
   ]
  },
  {
   "cell_type": "code",
   "execution_count": 8,
   "metadata": {},
   "outputs": [
    {
     "data": {
      "text/plain": [
       "{'Domestic Investments': 'https://www.ibef.org/economy/domestic-investments',\n",
       " 'Economic Survey 2023-24': 'https://www.ibef.org/economy/economic-survey-2023-24',\n",
       " 'Foreign Direct Investment': 'https://www.ibef.org/economy/foreign-direct-investment',\n",
       " 'Foreign Institutional Investors': 'https://www.ibef.org/economy/foreign-institutional-investors',\n",
       " 'Foreign Trade Policy 2023': 'https://www.ibef.org/economy/foreign-trade-policy-2023',\n",
       " 'Government Schemes': 'https://www.ibef.org/economy/government-schemes',\n",
       " 'India Positive': 'https://www.ibef.org/economy/india-positive',\n",
       " 'India: A Snapshot': 'https://www.ibef.org/economy/indiasnapshot/about-india-at-a-glance',\n",
       " 'Indian Economy News': 'https://www.ibef.org/indian-economy-news',\n",
       " 'Indian Economy Overview': 'https://www.ibef.org/economy/indian-economy-overview',\n",
       " 'Indian Investments Abroad': 'https://www.ibef.org/economy/indian-investments-abroad',\n",
       " 'Investments': 'https://www.ibef.org/economy/investments',\n",
       " 'Make in India': 'https://www.ibef.org/economy/make-in-india',\n",
       " 'Monthly Economic Report': 'https://www.ibef.org/economy/monthly-economic-report',\n",
       " 'Policy Watch': 'https://www.ibef.org/news/policy-watch',\n",
       " 'Quick Facts': 'https://www.ibef.org/economy/indiasnapshot/facts-about-indian-economy',\n",
       " 'Startup India': 'https://www.ibef.org/economy/startup-india',\n",
       " 'Trade': 'https://www.ibef.org/economy/trade-and-external-sector',\n",
       " 'Union Budget 2024-25': 'https://www.ibef.org/economy/union-budget-2024-25',\n",
       " 'Useful Links': 'https://www.ibef.org/economy/directory/india-directory'}"
      ]
     },
     "execution_count": 8,
     "metadata": {},
     "output_type": "execute_result"
    }
   ],
   "source": [
    "economy_links"
   ]
  },
  {
   "cell_type": "code",
   "execution_count": 9,
   "metadata": {},
   "outputs": [],
   "source": [
    "industries = soup.find('nav').findAll('div', class_='megaDropDown')[2].findAll('a')"
   ]
  },
  {
   "cell_type": "code",
   "execution_count": 10,
   "metadata": {},
   "outputs": [],
   "source": [
    "industry_links = {}\n",
    "for e in industries:\n",
    "    industry_links[e.get_text()] = e['href'].strip()"
   ]
  },
  {
   "cell_type": "code",
   "execution_count": 11,
   "metadata": {},
   "outputs": [],
   "source": [
    "from pyperclip import copy"
   ]
  },
  {
   "cell_type": "code",
   "execution_count": 29,
   "metadata": {},
   "outputs": [],
   "source": [
    "copy(str(industry_links))"
   ]
  },
  {
   "cell_type": "code",
   "execution_count": 12,
   "metadata": {},
   "outputs": [],
   "source": [
    "url = 'https://www.ibef.org/research/case-study'"
   ]
  },
  {
   "cell_type": "code",
   "execution_count": 13,
   "metadata": {},
   "outputs": [],
   "source": [
    "resp = requests.get(url)\n",
    "with open('ibef.html', 'w') as f:\n",
    "    f.write(resp.text)"
   ]
  },
  {
   "cell_type": "code",
   "execution_count": 181,
   "metadata": {},
   "outputs": [],
   "source": [
    "url = 'https://www.ibef.org/AjaxController/getResearchCategoryList?page=1'\n",
    "data = {\n",
    "    'moduleId': '10',\n",
    "    'orderBy': 'DESC',\n",
    "}"
   ]
  },
  {
   "cell_type": "code",
   "execution_count": 182,
   "metadata": {},
   "outputs": [],
   "source": [
    "resp = requests.post(url, data=data)"
   ]
  },
  {
   "cell_type": "code",
   "execution_count": 183,
   "metadata": {},
   "outputs": [
    {
     "data": {
      "text/plain": [
       "[{'id': '275',\n",
       "  'moduleTitle': \"The Lure of India: One of the World's Most Exciting Markets for PE and VC\",\n",
       "  'shortDescription': '<p>Indian companies have traditionally resorted to bank credit and capital markets (equity or debt) to fund their capital needs. Though private equity and venture capital (PE & VC) funding was formally introduced in the country in the 1980’s, capital raising via alternative financing routes picked up only post 2003. India is now a favoured PE & VC investment destination (especially in Asia Pacific) driven by its consumerdriven high economic growth. </p>',\n",
       "  'slugURL': None,\n",
       "  'uploadedImage': 'the-lure-of-india.jpg',\n",
       "  'createdDate': 'November 01 2013'},\n",
       " {'id': '274',\n",
       "  'moduleTitle': 'Skilling the Workforce: Skill Developement Initiatives in India',\n",
       "  'shortDescription': '<p>A growing economy such as India requires a large pool of skilled workers. While India’s population growth rate had declined over the last two decades, the labour force is projected to grow by close to 2 per cent; adding over 7 million per year for the next few years. Also, while the labour force is moving away from the traditional sector of agriculture, it still employs the highest percentage of the total labour force.</p>\\r\\n',\n",
       "  'slugURL': None,\n",
       "  'uploadedImage': 'skilling-the-workforce.jpg',\n",
       "  'createdDate': 'November 01 2013'},\n",
       " {'id': '273',\n",
       "  'moduleTitle': \"Opportunities For Under- Developed And Developing Economies to Replicate India's Success\",\n",
       "  'shortDescription': '<p>India has moved from being an agriculture-based economy to a service-driven one in a short period of time. Unlike its emerging market peers, the country has relied less on the industrial segment, as knowledge-based sectors have grown at a faster pace. The share of services in the total GDP has increased from 59.3 per cent in FY ’03 to 66.8 per cent in FY’12. </p>',\n",
       "  'slugURL': None,\n",
       "  'uploadedImage': 'opportunities-for-under-d.jpg',\n",
       "  'createdDate': 'November 01 2013'},\n",
       " {'id': '272',\n",
       "  'moduleTitle': 'Indian Manufacturers Going Global',\n",
       "  'shortDescription': '<p>The manufacturing sector holds a key position in the Indian economy. Manufacturing, a part of the wider industrial sector, accounted for nearly 16 per cent of real GDP in FY’ 12. It plays a big role in employment generation, as about 12.0 per cent of India’s labour force is employed by manufacturing units.</p>',\n",
       "  'slugURL': None,\n",
       "  'uploadedImage': 'indian-manufacturers-going-global.jpg',\n",
       "  'createdDate': 'November 01 2013'},\n",
       " {'id': '271',\n",
       "  'moduleTitle': 'Indian Logistics Industry: Gaining Momentum',\n",
       "  'shortDescription': '<p>The contribution from the movement of goods including freight transportation and storage is about 90 per cent. Aggregate freight traffic is estimated at about 2-2.3 trillion tonne kilometres. Road dominates the mode of freight transport mix and constitutes about 60 per cent of the total freight traffic. Rail and coastal shipping account for about 32 per cent and 7 per cent, respectively, while the share of inland waterways transportation and air is less than 1 per cent each.</p>',\n",
       "  'slugURL': None,\n",
       "  'uploadedImage': 'indian-logistics-industry-gaining-momentum.jpg',\n",
       "  'createdDate': 'November 01 2013'},\n",
       " {'id': '270',\n",
       "  'moduleTitle': 'Growing Trade With Southeast Asia',\n",
       "  'shortDescription': '<p>India’s engagement with the Association of South East Asian Nations (ASEAN) started with the framing of its \"Look East Policy\" in the year 1991, which is discussed later. ASEAN has a membership of 10 countries – namely Brunei Darussalam, Cambodia, Indonesia, Lao PDR, Malaysia, Myanmar, Philippines, Singapore, Thailand and Vietnam. India became a Sectoral Dialogue Partner of ASEAN in 1992 and Full Dialogue Partner in 1996. In November 2001, the ASEAN-India relationship was further upgraded to the summit level.</p>',\n",
       "  'slugURL': None,\n",
       "  'uploadedImage': 'growing-trade-with-southeast-asia.jpg',\n",
       "  'createdDate': 'November 01 2013'},\n",
       " {'id': '269',\n",
       "  'moduleTitle': 'Fostering Successful Entrepreneurial Ventures: Incubation And Commercialisation in India',\n",
       "  'shortDescription': '<p>Entrepreneurship is vital for job creation in an economy. An entrepreneurial culture also promotes innovation, productivity improvement and human capital development. Globally, new businesses have created disproportionately more jobs than established ones. As per a US-based research paper, existing firms cut 1 million jobs combined per year between 1977 and 2005 in the US, in contrast to new firms (less than one year old), which added an average of 3 million jobs during the same period. Existing firms were net job destroyers in all but seven years during the period under study. </p>',\n",
       "  'slugURL': None,\n",
       "  'uploadedImage': 'fostering-successful-entrepreneurial-venturesX.jpg',\n",
       "  'createdDate': 'November 01 2013'},\n",
       " {'id': '268',\n",
       "  'moduleTitle': 'Energy Conservation: Demand-Side Management',\n",
       "  'shortDescription': '<p>Since the end of the Tenth Five-Year Plan period, or 2007 onwards, India’s pace has increased significantly in terms of power generation capacity addition as well as in terms of making power available to widely distributed geographical boundaries.  </p>',\n",
       "  'slugURL': None,\n",
       "  'uploadedImage': 'energy-conservation-demand-side-management.jpg',\n",
       "  'createdDate': 'November 01 2013'}]"
      ]
     },
     "execution_count": 183,
     "metadata": {},
     "output_type": "execute_result"
    }
   ],
   "source": [
    "resp.json()['result']"
   ]
  },
  {
   "cell_type": "code",
   "execution_count": 157,
   "metadata": {},
   "outputs": [],
   "source": [
    "x = resp.text"
   ]
  },
  {
   "cell_type": "code",
   "execution_count": 154,
   "metadata": {},
   "outputs": [
    {
     "data": {
      "text/plain": [
       "dict_keys(['result', 'pager', 'pagination'])"
      ]
     },
     "execution_count": 154,
     "metadata": {},
     "output_type": "execute_result"
    }
   ],
   "source": [
    "resp.json().keys()"
   ]
  },
  {
   "cell_type": "code",
   "execution_count": 155,
   "metadata": {},
   "outputs": [
    {
     "data": {
      "text/plain": [
       "'\\r\\n<nav aria-label=\"Page navigation\">\\r\\n\\t<ul class=\"default-pagination ajax pagination d-flex ms-2\">\\r\\n\\t\\t\\r\\n\\t\\t\\t\\t\\t<li class=\"active\">\\r\\n\\t\\t\\t\\t<a id=\"1\" href=\"https://www.ibef.org/AjaxController/getResearchCategoryList?page=1\">\\r\\n\\t\\t\\t\\t\\t1\\t\\t\\t\\t</a>\\r\\n\\t\\t\\t</li>\\r\\n\\t\\t\\t\\t\\t<li >\\r\\n\\t\\t\\t\\t<a id=\"2\" href=\"https://www.ibef.org/AjaxController/getResearchCategoryList?page=2\">\\r\\n\\t\\t\\t\\t\\t2\\t\\t\\t\\t</a>\\r\\n\\t\\t\\t</li>\\r\\n\\t\\t\\t\\t\\t<li >\\r\\n\\t\\t\\t\\t<a id=\"3\" href=\"https://www.ibef.org/AjaxController/getResearchCategoryList?page=3\">\\r\\n\\t\\t\\t\\t\\t3\\t\\t\\t\\t</a>\\r\\n\\t\\t\\t</li>\\r\\n\\t\\t\\r\\n\\t\\t\\t\\t\\t<li>\\r\\n\\t\\t\\t\\t<a id=\"4\" href=\"https://www.ibef.org/AjaxController/getResearchCategoryList?page=4\" aria-label=\"Next\" title=\"Next\">\\r\\n\\t\\t\\t\\t\\t<!--<span aria-hidden=\"true\"></span>-->\\r\\n\\t\\t\\t\\t\\t<span class=\"fal fa-chevron-right\"></span>\\r\\n\\t\\t\\t\\t</a>\\r\\n\\t\\t\\t</li>\\r\\n\\t\\t\\t<li>\\r\\n\\t\\t\\t\\t<a id=\"13\" href=\"https://www.ibef.org/AjaxController/getResearchCategoryList?page=13\" aria-label=\"Last\" title=\"Last\">\\r\\n\\t\\t\\t\\t\\t<!--<span aria-hidden=\"true\"></span>-->\\r\\n\\t\\t\\t\\t\\t<span class=\"fal fa-chevron-double-right\"></span>\\r\\n\\t\\t\\t\\t</a>\\r\\n\\t\\t\\t</li>\\r\\n\\t\\t\\t</ul>\\r\\n</nav>\\r\\n'"
      ]
     },
     "execution_count": 155,
     "metadata": {},
     "output_type": "execute_result"
    }
   ],
   "source": [
    "resp.json()['pagination']"
   ]
  },
  {
   "cell_type": "code",
   "execution_count": 156,
   "metadata": {},
   "outputs": [
    {
     "data": {
      "text/plain": [
       "8"
      ]
     },
     "execution_count": 156,
     "metadata": {},
     "output_type": "execute_result"
    }
   ],
   "source": [
    "len(resp.json()['result'])"
   ]
  },
  {
   "cell_type": "code",
   "execution_count": null,
   "metadata": {},
   "outputs": [],
   "source": []
  },
  {
   "cell_type": "code",
   "execution_count": null,
   "metadata": {},
   "outputs": [],
   "source": []
  }
 ],
 "metadata": {
  "kernelspec": {
   "display_name": "Python 3",
   "language": "python",
   "name": "python3"
  },
  "language_info": {
   "codemirror_mode": {
    "name": "ipython",
    "version": 3
   },
   "file_extension": ".py",
   "mimetype": "text/x-python",
   "name": "python",
   "nbconvert_exporter": "python",
   "pygments_lexer": "ipython3",
   "version": "3.10.0"
  }
 },
 "nbformat": 4,
 "nbformat_minor": 2
}
