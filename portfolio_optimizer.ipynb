{
 "cells": [
  {
   "cell_type": "code",
   "execution_count": 7,
   "metadata": {},
   "outputs": [],
   "source": [
    "import requests\n",
    "from bs4 import BeautifulSoup\n",
    "import pandas as pd"
   ]
  },
  {
   "cell_type": "code",
   "execution_count": 8,
   "metadata": {},
   "outputs": [
    {
     "name": "stdout",
     "output_type": "stream",
     "text": [
      "Enter the comapies for portfolio\n"
     ]
    }
   ],
   "source": [
    "print('Enter the comapies for portfolio')\n",
    "portfolio = {}\n",
    "companies = []\n",
    "while True:\n",
    "    company = input('Enter the company name: ')\n",
    "    if company == '':\n",
    "        break\n",
    "    companies.append(company)\n",
    "\n",
    "for company in companies:\n",
    "    number_of_shares = int(input(f'Enter the number of shares for {company}: '))\n",
    "    portfolio[company] = number_of_shares\n"
   ]
  },
  {
   "cell_type": "code",
   "execution_count": 9,
   "metadata": {},
   "outputs": [],
   "source": [
    "portfolio = {\n",
    "    'TCS' : 20,\n",
    "    'HDFCBANK' : 3000,\n",
    "    'RELIANCE' : 234,\n",
    "    'INFY' : 354,\n",
    "}"
   ]
  },
  {
   "cell_type": "code",
   "execution_count": 10,
   "metadata": {},
   "outputs": [
    {
     "name": "stderr",
     "output_type": "stream",
     "text": [
      "C:\\Users\\Ishant\\AppData\\Local\\Temp\\ipykernel_26212\\3242283025.py:8: FutureWarning: Passing literal html to 'read_html' is deprecated and will be removed in a future version. To read from a literal string, wrap it in a 'StringIO' object.\n",
      "  data = pd.read_html(str(table))[1].to_dict()\n"
     ]
    },
    {
     "name": "stdout",
     "output_type": "stream",
     "text": [
      "Value of TCS is 91030.0\n"
     ]
    },
    {
     "name": "stderr",
     "output_type": "stream",
     "text": [
      "C:\\Users\\Ishant\\AppData\\Local\\Temp\\ipykernel_26212\\3242283025.py:8: FutureWarning: Passing literal html to 'read_html' is deprecated and will be removed in a future version. To read from a literal string, wrap it in a 'StringIO' object.\n",
      "  data = pd.read_html(str(table))[1].to_dict()\n"
     ]
    },
    {
     "name": "stdout",
     "output_type": "stream",
     "text": [
      "Value of HDFCBANK is 4877400.0\n"
     ]
    },
    {
     "name": "stderr",
     "output_type": "stream",
     "text": [
      "C:\\Users\\Ishant\\AppData\\Local\\Temp\\ipykernel_26212\\3242283025.py:8: FutureWarning: Passing literal html to 'read_html' is deprecated and will be removed in a future version. To read from a literal string, wrap it in a 'StringIO' object.\n",
      "  data = pd.read_html(str(table))[1].to_dict()\n"
     ]
    },
    {
     "name": "stdout",
     "output_type": "stream",
     "text": [
      "Value of RELIANCE is 701379.9\n"
     ]
    },
    {
     "name": "stderr",
     "output_type": "stream",
     "text": [
      "C:\\Users\\Ishant\\AppData\\Local\\Temp\\ipykernel_26212\\3242283025.py:8: FutureWarning: Passing literal html to 'read_html' is deprecated and will be removed in a future version. To read from a literal string, wrap it in a 'StringIO' object.\n",
      "  data = pd.read_html(str(table))[1].to_dict()\n"
     ]
    },
    {
     "name": "stdout",
     "output_type": "stream",
     "text": [
      "Value of INFY is 662935.8\n"
     ]
    }
   ],
   "source": [
    "total_value_of_each_company  = {}\n",
    "for company, quantity in portfolio.items():\n",
    "    try:\n",
    "        url = f'https://www.screener.in/company/{company}/'\n",
    "        resp = requests.get(url)\n",
    "        soup = BeautifulSoup(resp.content, 'html.parser')\n",
    "        table = soup.find_all('table')\n",
    "        data = pd.read_html(str(table))[1].to_dict()\n",
    "        net_profit_list = []\n",
    "        for i in range(1, 13):\n",
    "            net_profit_list.append(int(data[list(data)[i]][9]))\n",
    "        company_id = int(soup.find('div', {'id': 'company-info'})['data-company-id'])\n",
    "        compounded_profit_growth = net_profit_list[-1] / net_profit_list[0]\n",
    "        compounded_profit_growth = compounded_profit_growth ** (1/len(net_profit_list)) - 1\n",
    "        \n",
    "        resp = requests.get(f'https://www.screener.in/api/company/{company_id}/chart/?q=Price-DMA50-DMA200-Volume&days=10000&consolidated=true')\n",
    "        data = resp.json()\n",
    "        price_data = data['datasets'][0]\n",
    "        price_list = []\n",
    "        price_date_list = []\n",
    "        for i in price_data['values']:\n",
    "            price_list.append(float(i[1]))\n",
    "            price_date_list.append((i[0]))\n",
    "        price = price_list[-1]\n",
    "        total_value_of_each_company[company] = ((price * quantity), compounded_profit_growth*100)\n",
    "        print(f\"Value of {company} is {price * quantity}\")\n",
    "    except:\n",
    "        print(f\"Error fetching data for {company}\")\n",
    "\n"
   ]
  },
  {
   "cell_type": "code",
   "execution_count": 11,
   "metadata": {},
   "outputs": [
    {
     "name": "stdout",
     "output_type": "stream",
     "text": [
      "Contribution of TCS is 1.44% and growth contribution is 0.15%\n",
      "Contribution of HDFCBANK is 77.02% and growth contribution is 15.51%\n",
      "Contribution of RELIANCE is 11.08% and growth contribution is 0.66%\n",
      "Contribution of INFY is 10.47% and growth contribution is 1.00%\n",
      "Total value of portfolio is 6332745.7\n",
      "Total growth of portfolio is 17.32%\n",
      "This assumption is based on profit growth and increment in PE is not considered. User is advised to take decision based on their own research and analysis\n"
     ]
    }
   ],
   "source": [
    "\n",
    "total_value_of_portfolio = 0\n",
    "for i in total_value_of_each_company:\n",
    "    total_value_of_portfolio += total_value_of_each_company[i][0]\n",
    "\n",
    "\n",
    "percent_contribution_growth = []\n",
    "holding_contribution = []\n",
    "\n",
    "for company in total_value_of_each_company:\n",
    "    # print(f\"Percentage of {company} is {total_value_of_each_company[company][0] / total_value_of_portfolio * 100:.2f}%\")\n",
    "    percent_holding, compounded_profit_growth = total_value_of_each_company[company]\n",
    "    growth_percent = percent_holding / total_value_of_portfolio * compounded_profit_growth\n",
    "    percent_contribution_growth.append(growth_percent)\n",
    "    holding_contribution.append(percent_holding / total_value_of_portfolio * 100)\n",
    "    # print(f\"Holding Percentage of {company} is {percent_holding / total_value_of_portfolio * 100:.2f}%\")\n",
    "    # print(f\"Growth contribution of {company} is {percent_holding / total_value_of_portfolio * compounded_profit_growth:.2f}%\")\n",
    "\n",
    "if len(portfolio) != len(holding_contribution):\n",
    "    print(\"Fatal Error in calculation\")\n",
    "\n",
    "if len(holding_contribution) != len(percent_contribution_growth):\n",
    "    print(\"Error in calculation\")\n",
    "\n",
    "for i in range(len(holding_contribution)):\n",
    "    print(f\"Contribution of {list(portfolio.keys())[i]} is {holding_contribution[i]:.2f}% and growth contribution is {percent_contribution_growth[i]:.2f}%\")\n",
    "\n",
    "print(f\"Total value of portfolio is {total_value_of_portfolio}\")\n",
    "print(f\"Total growth of portfolio is {sum(percent_contribution_growth):.2f}%\")\n",
    "print('This assumption is based on profit growth and increment in PE is not considered. User is advised to take decision based on their own research and analysis')"
   ]
  },
  {
   "cell_type": "code",
   "execution_count": null,
   "metadata": {},
   "outputs": [],
   "source": []
  }
 ],
 "metadata": {
  "kernelspec": {
   "display_name": "Python 3",
   "language": "python",
   "name": "python3"
  },
  "language_info": {
   "codemirror_mode": {
    "name": "ipython",
    "version": 3
   },
   "file_extension": ".py",
   "mimetype": "text/x-python",
   "name": "python",
   "nbconvert_exporter": "python",
   "pygments_lexer": "ipython3",
   "version": "3.10.0"
  }
 },
 "nbformat": 4,
 "nbformat_minor": 2
}
