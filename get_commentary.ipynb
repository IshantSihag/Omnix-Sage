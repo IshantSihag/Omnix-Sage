{
 "cells": [
  {
   "cell_type": "code",
   "execution_count": 1,
   "metadata": {},
   "outputs": [],
   "source": [
    "import requests"
   ]
  },
  {
   "cell_type": "code",
   "execution_count": 33,
   "metadata": {},
   "outputs": [],
   "source": [
    "from bs4 import BeautifulSoup"
   ]
  },
  {
   "cell_type": "code",
   "execution_count": 2,
   "metadata": {},
   "outputs": [],
   "source": [
    "url = 'https://www.screener.in/wiki/company/3366/commentary/v2/'"
   ]
  },
  {
   "cell_type": "code",
   "execution_count": 17,
   "metadata": {},
   "outputs": [],
   "source": [
    "headers = {\n",
    "    'User-Agent': 'Mozilla/5.0 (Windows NT 10.0; Win64; x64) AppleWebKit/537.36 (KHTML, like Gecko) Chrome/58.0.3029.110 Safari/537.3',\n",
    "    'cookie':'csrftoken=14cOcxbER7QfBXEcyZeCwBvCFAbZYigJ; sessionid=rr3fp4r5umhqwrnh0bu8iyq5vfsxeg0l'\n",
    "}\n"
   ]
  },
  {
   "cell_type": "code",
   "execution_count": 18,
   "metadata": {},
   "outputs": [],
   "source": [
    "company_id = 3366"
   ]
  },
  {
   "cell_type": "code",
   "execution_count": 22,
   "metadata": {},
   "outputs": [],
   "source": [
    "headers = {\n",
    "    'authority': 'www.screener.in',\n",
    "'method':'GET',\n",
    "'path':f'/wiki/company/{company_id}/commentary/v2/',\n",
    "'scheme':'https',\n",
    "'accept':'*/*',\n",
    "'accept-encoding':'gzip, deflate, br, zstd',\n",
    "'accept-language':'en-US,en;q=0.9',\n",
    "'cookie':'csrftoken=14cOcxbER7QfBXEcyZeCwBvCFAbZYigJ; sessionid=rr3fp4r5umhqwrnh0bu8iyq5vfsxeg0l',\n",
    "'priority':'u=1, i',\n",
    "# 'referer':'https://www.screener.in/company/TATAELXSI/',\n",
    "'sec-ch-ua':'\"Not)A;Brand\";v=\"99\", \"Microsoft Edge\";v=\"127\", \"Chromium\";v=\"127\"',\n",
    "'sec-ch-ua-mobile':'?0',\n",
    "'sec-ch-ua-platform':'\"Windows\"',\n",
    "'sec-fetch-dest':'empty',\n",
    "'sec-fetch-mode':'cors',\n",
    "'sec-fetch-site':'same-origin',\n",
    "'user-agent':'Mozilla/5.0 (Windows NT 10.0; Win64; x64) AppleWebKit/537.36 (KHTML, like Gecko) Chrome/',\n",
    "'x-requested-with':'XMLHttpRequest'\n",
    "}"
   ]
  },
  {
   "cell_type": "code",
   "execution_count": 23,
   "metadata": {},
   "outputs": [],
   "source": [
    "resp = requests.get(url, headers=headers)"
   ]
  },
  {
   "cell_type": "code",
   "execution_count": 24,
   "metadata": {},
   "outputs": [],
   "source": [
    "with open('screener.html', 'wb') as f:\n",
    "    f.write(resp.content)"
   ]
  },
  {
   "cell_type": "code",
   "execution_count": 34,
   "metadata": {},
   "outputs": [],
   "source": [
    "soup = BeautifulSoup(resp.content, 'html.parser')"
   ]
  },
  {
   "cell_type": "code",
   "execution_count": 37,
   "metadata": {},
   "outputs": [
    {
     "name": "stdout",
     "output_type": "stream",
     "text": [
      "Tata Elxsi is amongst the world’s leading providers of design and technology services across industries including Automotive, Media, Communications and Healthcare. Tata Elxsi provides integrated services from research and strategy, to electronics and mechanical design, software development, validation and deployment, and is supported by a network of design studios, global development centers and offices worldwide. [1]\n",
      "Business segments\n",
      "Embedded Product & Design (86% of Q2FY24 revenues)[1]\n",
      "The division provides technology consulting, new product design, development and testing services for various sectors like automotive, broadcast, consumer electrics, healthcare, telecom and transportation industries. [2]\n",
      "It works with leading OEMs and suppliers in the automotive and transportation industries for R&D, design, and product engineering. It also addresses complete product development lifecycle from R&D, new product development and testing for broadcast, consumer electronics and communications [3]\n",
      "Industrial Design & Visualization (11.3% of Q2FY24 revenues)\n",
      "The company helps customers create innovative products, services and experiences. It build brands with help of design and technology. The division's services span across consumer research and strategy, branding and graphics, product design, etc.  [4] The segment crossed Rs. 100 crores in revenues for the first time in Q2FY24.[5]\n",
      "System Integration & Support (2.7% of Q2FY24 revenues)\n",
      "The company integrates complete systems and solutions for specialized applications such as Experience Centers, Training & Safety and Design visualization. It continues to strengthen its portfolio to address emerging technology needs of its customers\n",
      "Revenue By Industry Q2FY24[1]\n",
      "Transportation : 46.2% \n",
      "Media & Communications : 38.4%\n",
      "Healthcare & medical devices : 15.4%\n",
      "Geographical Split Q2FY24[6]\n",
      "Europe : 40%\n",
      "Americas : 40%\n",
      "India : 15%\n",
      "RoW : 5%\n",
      "Onsite/Offsite Mix Q2FY24 [7]\n",
      "Onsite : 26%\n",
      "Offsite : 74%\n",
      "Client Concentration[6]\n",
      "Revenue concentration from top 10 clients increased from 46.5% in FY22 to 53.2% in Q2FY24, from Top 5 clients revenue contribution was 44.5%.\n",
      "Key Deals H1FY24[8]\n",
      "1 Chosen as a strategic software development partner for the SDV and Software Organization of a Global Automotive OEM. It is a multi-year large deal in the SDV space.\n",
      "2 Chosen as a strategic partner for transformation of video services across multiple countries for a LATAM headquartered multi-country operator. This is a 5-year deal to develop and deploy next generation video technologies.\n",
      "3 Selected as a strategic innovation and development partner for next generation EV and on-board systems by a leading European Automotive supplier.\n",
      "4  Design-Digital proposition wins a strategic multi-year innovation and reengineering project of a critical care device platform for emerging markets.\n",
      "5 A multi-year, multi-million-dollar deal for design and development of Level 3+ autonomous driving system for passenger vehicles of a US Headquartered Automotive Tier 1\n",
      "Partnership with INVIDI[9]\n",
      "In Sep,23, company entered into partnership with INVIDI Technologies to transform addressable advertising for Pay-Tv operators.\n",
      "Partner with Brain Chip[10]\n",
      "Brain Chip and Tata Elxsi partnered for edge AI. It will be driving Akida™ technology into medical devices and industrial applications by leveraging BrainChip’s first-to market, fully digital, neuromorphic technology to provide intelligent, low power solutions to target markets.\n",
      "Partners with Ateme[11]\n",
      "In Sep,23, Tata Elxsi Partners with Ateme to enable fastest Launch of FAST Services. It is a \n",
      "strategic alliance to accelerate time-to-market for content and service providers launching\n",
      "FAST channels.\n",
      "NEURON Autonomous Network Platform[12]\n",
      "Tata Elxsi's NEURON Autonomous Network Platform paves the way for the world's largest telecom operators to progress towards Zero\n",
      "Touch Automation. It was also awarded product of the year at the Industry DevOps Awards 2023, London.\n",
      "\n",
      "    Last edited 7 months, 3 weeks ago\n",
      "    \n",
      "\n",
      "\n",
      "      Request an update\n",
      "      \n",
      "\n",
      "\n",
      "© Protected by Copyright\n"
     ]
    }
   ],
   "source": [
    "for para in soup.find_all('p'):\n",
    "    print(para.text)"
   ]
  },
  {
   "cell_type": "code",
   "execution_count": null,
   "metadata": {},
   "outputs": [],
   "source": []
  }
 ],
 "metadata": {
  "kernelspec": {
   "display_name": "Python 3",
   "language": "python",
   "name": "python3"
  },
  "language_info": {
   "codemirror_mode": {
    "name": "ipython",
    "version": 3
   },
   "file_extension": ".py",
   "mimetype": "text/x-python",
   "name": "python",
   "nbconvert_exporter": "python",
   "pygments_lexer": "ipython3",
   "version": "3.10.0"
  }
 },
 "nbformat": 4,
 "nbformat_minor": 2
}
